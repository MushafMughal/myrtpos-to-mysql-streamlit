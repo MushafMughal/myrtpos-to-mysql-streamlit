{
 "cells": [
  {
   "cell_type": "code",
   "execution_count": null,
   "metadata": {},
   "outputs": [],
   "source": [
    "# Insert the data first time into the database\n",
    "for _, row in disc_report.iterrows():\n",
    "    sql = \"\"\"\n",
    "    INSERT INTO desc_report (\n",
    "        Market, Store, Store_ID, Store_Limit, Override_Disc, Disc_SKU,\n",
    "        Total_Availed, Remaining, EOL, Aging, Cx_Survey, MD_approved, Comment\n",
    "    ) VALUES (%s, %s, %s, %s, %s, %s, %s, %s, %s, %s, %s, %s, %s)\n",
    "    \"\"\"\n",
    "    values = tuple(row[col] for col in required_columns)\n",
    "    mycursor.execute(sql, values)\n",
    "\n",
    "# Commit the transaction\n",
    "mydb.commit()"
   ]
  }
 ],
 "metadata": {
  "language_info": {
   "name": "python"
  }
 },
 "nbformat": 4,
 "nbformat_minor": 2
}
