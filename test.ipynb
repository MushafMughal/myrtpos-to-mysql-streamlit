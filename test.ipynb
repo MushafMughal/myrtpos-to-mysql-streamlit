{
 "cells": [
  {
   "cell_type": "code",
   "execution_count": 1,
   "metadata": {},
   "outputs": [
    {
     "name": "stderr",
     "output_type": "stream",
     "text": [
      "2024-12-07 21:58:41.823 WARNING streamlit.runtime.scriptrunner_utils.script_run_context: Thread 'MainThread': missing ScriptRunContext! This warning can be ignored when running in bare mode.\n"
     ]
    }
   ],
   "source": [
    "import mysql.connector\n",
    "import pandas as pd\n",
    "import streamlit as st\n",
    "import matplotlib.pyplot as plt\n",
    "from streamlit_option_menu import option_menu\n",
    "import numpy as np"
   ]
  },
  {
   "cell_type": "markdown",
   "metadata": {},
   "source": [
    "**OVERRIDE REPORT**"
   ]
  },
  {
   "cell_type": "code",
   "execution_count": 78,
   "metadata": {},
   "outputs": [
    {
     "name": "stderr",
     "output_type": "stream",
     "text": [
      "C:\\Users\\Desktop\\AppData\\Local\\Temp\\ipykernel_14108\\1024990883.py:8: FutureWarning: Series.fillna with 'method' is deprecated and will raise in a future version. Use obj.ffill() or obj.bfill() instead.\n",
      "  override['store id'] = override['store id'].fillna(method='ffill')\n"
     ]
    }
   ],
   "source": [
    "#importing data\n",
    "override =   pd.read_excel(\"Override Sales Report.xlsx\")\n",
    "override.columns = override.columns.str.lower().str.strip()\n",
    "#PREPROCESSING\n",
    "#for store id column\n",
    "override = override[~override['store name'].str.contains(\"Market:\",na=False)]\n",
    "override['store id'] = override['store name'].where(override['store name'].str.contains(\"StoreID:\", na=False))\n",
    "override['store id'] = override['store id'].fillna(method='ffill')\n",
    "override['store id'] = override['store id'].str.replace(\"StoreID: \", \"\", regex=False).str.strip()\n",
    "override = override.drop(columns=['store name'])  # Remove original column\n",
    "#for item# column\n",
    "condition_null = override['item #'].isnull()\n",
    "condition_in_list = override['item #'].isin([\"ACT/QPAY DISCOUNT\", \"NC128TRIPLESIM\"])\n",
    "override = override[~(condition_null | condition_in_list)]\n",
    "#for serial no. column\n",
    "override = override[override['serial no.'].isnull()]\n",
    "#for discount column\n",
    "override['discount'] = override['min price'] - override['price']\n",
    "override = override[override['discount'] >= 0]"
   ]
  },
  {
   "cell_type": "markdown",
   "metadata": {},
   "source": [
    "**MAIN DISCOUNT REPORT**"
   ]
  },
  {
   "cell_type": "code",
   "execution_count": 82,
   "metadata": {},
   "outputs": [
    {
     "name": "stdout",
     "output_type": "stream",
     "text": [
      "WARNING *** file size (378893) not 512 + multiple of sector size (512)\n",
      "WARNING *** OLE2 inconsistency: SSCS size is 0 but SSAT size is non-zero\n",
      "*** No CODEPAGE record, no encoding_override: will use 'iso-8859-1'\n"
     ]
    }
   ],
   "source": [
    "#importing data\n",
    "disc_report = pd.read_excel(\"map.xlsx\")\n",
    "disc_report.rename(columns={\"Store ID\": \"Store_ID\"}, inplace=True)\n",
    "#PREPROCESSING\n",
    "#for limit column\n",
    "if \"limit\" not in disc_report.columns:\n",
    "    lst = [\"NORTHWEST HWY\", \"704 JEFFERSON\", \"DUNCANVILLE\", \"COLORADO BLVD\", \"JACKSBORO\"]\n",
    "    disc_report[\"Store_Limit\"] = np.where(\n",
    "        disc_report[\"Store\"].isin(lst),  # Condition: if 'Store' is in the list\n",
    "        1500,                           # Value if condition is True\n",
    "        250                             # Value if condition is False\n",
    "    )\n",
    "#for Override Disc\n",
    "override.rename(columns={\"store id\": \"Store_ID\"}, inplace=True)\n",
    "override_summed = override.groupby(\"Store_ID\", as_index=False)[\"discount\"].sum()\n",
    "disc_report = disc_report.merge(override_summed, how=\"left\", left_on=\"Store_ID\", right_on=\"Store_ID\")\n",
    "disc_report.rename(columns={\"discount\": \"Override_Disc\"}, inplace=True)\n",
    "disc_report[\"Override_Disc\"] = disc_report[\"Override_Disc\"].fillna(0)\n",
    "#for Disc SKU\n",
    "salesbycategory = pd.read_excel(\"SalesbyCategory.xls\")\n",
    "salesbycategory.rename(columns={\"custno\": \"Store_ID\"}, inplace=True)\n",
    "salesbycategory_summed = salesbycategory.groupby(\"Store_ID\", as_index=False)[\"price\"].sum()\n",
    "disc_report = disc_report.merge(salesbycategory_summed, how=\"left\", left_on=\"Store_ID\", right_on=\"Store_ID\")\n",
    "disc_report.rename(columns={\"price\": \"Disc_SKU\"}, inplace=True)\n",
    "disc_report[\"Disc_SKU\"] = disc_report[\"Disc_SKU\"].fillna(0)\n",
    "#for remaining cols\n",
    "required_columns = ['Market', 'Store', 'Store_ID', 'Store_Limit', 'Override_Disc',\n",
    "                    'Disc_SKU', 'Total_Availed', 'Remaining', 'EOL', 'Aging',\n",
    "                    'Cx_Survey', 'MD_approved', 'Comment']\n",
    "for column in required_columns:\n",
    "    if column not in disc_report.columns:\n",
    "        disc_report[column] = None"
   ]
  },
  {
   "cell_type": "code",
   "execution_count": 85,
   "metadata": {},
   "outputs": [
    {
     "data": {
      "text/html": [
       "<div>\n",
       "<style scoped>\n",
       "    .dataframe tbody tr th:only-of-type {\n",
       "        vertical-align: middle;\n",
       "    }\n",
       "\n",
       "    .dataframe tbody tr th {\n",
       "        vertical-align: top;\n",
       "    }\n",
       "\n",
       "    .dataframe thead th {\n",
       "        text-align: right;\n",
       "    }\n",
       "</style>\n",
       "<table border=\"1\" class=\"dataframe\">\n",
       "  <thead>\n",
       "    <tr style=\"text-align: right;\">\n",
       "      <th></th>\n",
       "      <th>Market</th>\n",
       "      <th>Store</th>\n",
       "      <th>Store_ID</th>\n",
       "      <th>Store_Limit</th>\n",
       "      <th>Override_Disc</th>\n",
       "      <th>Disc_SKU</th>\n",
       "      <th>Total_Availed</th>\n",
       "      <th>Remaining</th>\n",
       "      <th>EOL</th>\n",
       "      <th>Aging</th>\n",
       "      <th>Cx_Survey</th>\n",
       "      <th>MD_approved</th>\n",
       "      <th>Comment</th>\n",
       "    </tr>\n",
       "  </thead>\n",
       "  <tbody>\n",
       "    <tr>\n",
       "      <th>0</th>\n",
       "      <td>SOUTH FLORIDA 2</td>\n",
       "      <td>214 NORTH FEDERAL</td>\n",
       "      <td>XTHSF214</td>\n",
       "      <td>250</td>\n",
       "      <td>273.41</td>\n",
       "      <td>0.0</td>\n",
       "      <td>None</td>\n",
       "      <td>None</td>\n",
       "      <td>None</td>\n",
       "      <td>None</td>\n",
       "      <td>None</td>\n",
       "      <td>None</td>\n",
       "      <td>None</td>\n",
       "    </tr>\n",
       "    <tr>\n",
       "      <th>1</th>\n",
       "      <td>SOUTH FLORIDA 2</td>\n",
       "      <td>928 W HALLANDALE</td>\n",
       "      <td>XTHSF928</td>\n",
       "      <td>250</td>\n",
       "      <td>139.38</td>\n",
       "      <td>0.0</td>\n",
       "      <td>None</td>\n",
       "      <td>None</td>\n",
       "      <td>None</td>\n",
       "      <td>None</td>\n",
       "      <td>None</td>\n",
       "      <td>None</td>\n",
       "      <td>None</td>\n",
       "    </tr>\n",
       "    <tr>\n",
       "      <th>2</th>\n",
       "      <td>SOUTH FLORIDA 2</td>\n",
       "      <td>3934 PEMBROKE BLVD</td>\n",
       "      <td>XTHSF3934</td>\n",
       "      <td>250</td>\n",
       "      <td>120.88</td>\n",
       "      <td>0.0</td>\n",
       "      <td>None</td>\n",
       "      <td>None</td>\n",
       "      <td>None</td>\n",
       "      <td>None</td>\n",
       "      <td>None</td>\n",
       "      <td>None</td>\n",
       "      <td>None</td>\n",
       "    </tr>\n",
       "  </tbody>\n",
       "</table>\n",
       "</div>"
      ],
      "text/plain": [
       "            Market               Store   Store_ID  Store_Limit  Override_Disc  \\\n",
       "0  SOUTH FLORIDA 2   214 NORTH FEDERAL   XTHSF214          250         273.41   \n",
       "1  SOUTH FLORIDA 2    928 W HALLANDALE   XTHSF928          250         139.38   \n",
       "2  SOUTH FLORIDA 2  3934 PEMBROKE BLVD  XTHSF3934          250         120.88   \n",
       "\n",
       "   Disc_SKU Total_Availed Remaining   EOL Aging Cx_Survey MD_approved Comment  \n",
       "0       0.0          None      None  None  None      None        None    None  \n",
       "1       0.0          None      None  None  None      None        None    None  \n",
       "2       0.0          None      None  None  None      None        None    None  "
      ]
     },
     "execution_count": 85,
     "metadata": {},
     "output_type": "execute_result"
    }
   ],
   "source": [
    "disc_report.head(3)"
   ]
  },
  {
   "cell_type": "markdown",
   "metadata": {},
   "source": [
    "**DATABASE PROCESSING**"
   ]
  },
  {
   "cell_type": "code",
   "execution_count": 88,
   "metadata": {},
   "outputs": [
    {
     "name": "stdout",
     "output_type": "stream",
     "text": [
      "1 rows were inserted.\n"
     ]
    }
   ],
   "source": [
    "# Establish a connection to MySQL Server\n",
    "mydb = mysql.connector.connect(\n",
    "    host='Localhost',\n",
    "    user='root',\n",
    "    password = '34&*^&AsXti2098as3#$><?',\n",
    "    database='rtpos')\n",
    "\n",
    "mycursor = mydb.cursor()\n",
    "\n",
    "# Insert the data into the database\n",
    "for _, row in disc_report.iterrows():\n",
    "    sql = \"\"\"\n",
    "    INSERT INTO desc_report (\n",
    "        Market, Store, Store_ID, Store_Limit, Override_Disc, Disc_SKU,\n",
    "        Total_Availed, Remaining, EOL, Aging, Cx_Survey, MD_approved, Comment\n",
    "    ) VALUES (%s, %s, %s, %s, %s, %s, %s, %s, %s, %s, %s, %s, %s)\n",
    "    \"\"\"\n",
    "    values = tuple(row[col] for col in required_columns)\n",
    "    mycursor.execute(sql, values)\n",
    "\n",
    "# Commit the transaction\n",
    "mydb.commit()\n",
    "\n",
    "print(f\"{mycursor.rowcount} rows were inserted.\")"
   ]
  },
  {
   "cell_type": "code",
   "execution_count": null,
   "metadata": {},
   "outputs": [],
   "source": [
    "def update_database_from_dataframe(dataframe, connection, cursor):\n",
    "    # Iterate through the rows of the dataframe\n",
    "    for index, row in dataframe.iterrows():\n",
    "        update_query = \"\"\"\n",
    "            UPDATE desc_report\n",
    "            SET \n",
    "                EOL = %s,\n",
    "                Aging = %s,\n",
    "                Cx_Survey = %s,\n",
    "                MD_approved = %s,\n",
    "                Comment = %s\n",
    "            WHERE Store_ID = %s\n",
    "        \"\"\"\n",
    "        # Data tuple for the query\n",
    "        data_tuple = (\n",
    "            row['EOL'], row['Aging'], row['Cx_Survey'], \n",
    "            row['MD_approved'], row['Comment'], row['Store_ID'])\n",
    "        \n",
    "        # Execute the query\n",
    "        cursor.execute(update_query, data_tuple)\n",
    "    \n",
    "    # Commit the changes\n",
    "    connection.commit()\n",
    "\n",
    "# Example usage with your disc_report DataFrame\n",
    "disc_report = pd.DataFrame({\n",
    "    'Store_ID': ['XTHSF214', 'XTHSF928'],\n",
    "    'Total_Availed': [30.0, 40.0],\n",
    "    'Remaining': [70.0, 160.0],\n",
    "    'EOL': [1.0, 2.0],\n",
    "    'Aging': [3.0, 4.0],\n",
    "    'Cx_Survey': [4.5, 4.8],\n",
    "    'MD_approved': [1.0, 1.0],\n",
    "    'Comment': ['Comment1', 'Comment2']\n",
    "})\n",
    "\n",
    "update_database_from_dataframe(disc_report, mydb, mycursor)\n",
    "\n",
    "# Close the cursor and connection\n",
    "mycursor.close()\n",
    "mydb.close()"
   ]
  },
  {
   "cell_type": "code",
   "execution_count": null,
   "metadata": {},
   "outputs": [],
   "source": []
  }
 ],
 "metadata": {
  "kernelspec": {
   "display_name": "Python 3",
   "language": "python",
   "name": "python3"
  },
  "language_info": {
   "codemirror_mode": {
    "name": "ipython",
    "version": 3
   },
   "file_extension": ".py",
   "mimetype": "text/x-python",
   "name": "python",
   "nbconvert_exporter": "python",
   "pygments_lexer": "ipython3",
   "version": "3.12.5"
  }
 },
 "nbformat": 4,
 "nbformat_minor": 2
}
